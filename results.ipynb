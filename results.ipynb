{
 "cells": [
  {
   "cell_type": "code",
   "execution_count": 1,
   "metadata": {},
   "outputs": [],
   "source": [
    "import json\n",
    "import torch"
   ]
  },
  {
   "cell_type": "code",
   "execution_count": 2,
   "metadata": {},
   "outputs": [],
   "source": [
    "with open('/shared/CIMDG/Causality-Medical-Image-Domain-Generalization/checkpoints/CAUSALDG_E3/22/metrics.json') as f:\n",
    "    data = json.load(f)"
   ]
  },
  {
   "cell_type": "code",
   "execution_count": 3,
   "metadata": {},
   "outputs": [
    {
     "data": {
      "text/plain": [
       "dict_keys(['meanDiceAvgTargetDomains', 'meanDiceTarget', 'meanDice_targetCT', 'rawDiceTarget', 'rawDice_targetCT', 'source_meanDice', 'source_rawDice'])"
      ]
     },
     "execution_count": 3,
     "metadata": {},
     "output_type": "execute_result"
    }
   ],
   "source": [
    "data.keys()"
   ]
  },
  {
   "cell_type": "code",
   "execution_count": 4,
   "metadata": {},
   "outputs": [],
   "source": [
    "LAST_EPOCH = -1\n",
    "class_vals = torch.zeros(19,5)\n",
    "for s_idx, smp in enumerate(data['rawDiceTarget']['values'][LAST_EPOCH]):\n",
    "    class_vals[s_idx] = torch.tensor(smp)"
   ]
  },
  {
   "cell_type": "code",
   "execution_count": 5,
   "metadata": {},
   "outputs": [
    {
     "name": "stdout",
     "output_type": "stream",
     "text": [
      "mean over class tensor([0.9883, 0.7784, 0.6545, 0.5477, 0.6319])\n",
      "std over class tensor([0.0107, 0.1562, 0.2573, 0.2621, 0.2266])\n"
     ]
    }
   ],
   "source": [
    "print('mean over class', class_vals.mean(0))\n",
    "print('std over class', class_vals.std(0))"
   ]
  },
  {
   "cell_type": "code",
   "execution_count": 6,
   "metadata": {},
   "outputs": [
    {
     "name": "stdout",
     "output_type": "stream",
     "text": [
      "mean over all tensor(0.7202)\n",
      "std over all tensor(0.2530)\n"
     ]
    }
   ],
   "source": [
    "print('mean over all', class_vals.mean())\n",
    "print('std over all', class_vals.std())"
   ]
  },
  {
   "cell_type": "code",
   "execution_count": 7,
   "metadata": {},
   "outputs": [],
   "source": [
    "import nibabel as nib"
   ]
  },
  {
   "cell_type": "code",
   "execution_count": 8,
   "metadata": {},
   "outputs": [],
   "source": [
    "pred = nib.load('/shared/CIMDG/Causality-Medical-Image-Domain-Generalization/checkpoints_test/CAUSALDG_E3/22/interm_preds/pred_targetCT_0_epoch_0.nii.gz')"
   ]
  },
  {
   "cell_type": "code",
   "execution_count": 9,
   "metadata": {},
   "outputs": [
    {
     "data": {
      "text/plain": [
       "torch.Size([192, 192, 48])"
      ]
     },
     "execution_count": 9,
     "metadata": {},
     "output_type": "execute_result"
    }
   ],
   "source": [
    "torch.as_tensor(pred.get_fdata()).shape\n",
    "# vs. (192, 160, 192)"
   ]
  },
  {
   "cell_type": "code",
   "execution_count": 10,
   "metadata": {},
   "outputs": [],
   "source": [
    "src_large = nib.load('/shared/CIMDG/Causality-Medical-Image-Domain-Generalization/data/E3/sourceMR/processed/image_0.nii.gz')\n",
    "src = nib.load('/shared/CIMDG/Causality-Medical-Image-Domain-Generalization/data/E3/sourceMR/processed_large/image_0.nii.gz')"
   ]
  },
  {
   "cell_type": "code",
   "execution_count": 11,
   "metadata": {},
   "outputs": [
    {
     "data": {
      "text/plain": [
       "(192, 160, 192)"
      ]
     },
     "execution_count": 11,
     "metadata": {},
     "output_type": "execute_result"
    }
   ],
   "source": [
    "src.shape"
   ]
  },
  {
   "cell_type": "code",
   "execution_count": 12,
   "metadata": {},
   "outputs": [
    {
     "data": {
      "text/plain": [
       "(192, 192, 48)"
      ]
     },
     "execution_count": 12,
     "metadata": {},
     "output_type": "execute_result"
    }
   ],
   "source": [
    "src_large.shape"
   ]
  },
  {
   "cell_type": "code",
   "execution_count": 17,
   "metadata": {},
   "outputs": [
    {
     "name": "stdout",
     "output_type": "stream",
     "text": [
      "/shared/CIMDG/Causality-Medical-Image-Domain-Generalization/data/E3/targetCT/processed_large_192_192_160/image_0.nii.gz (192, 192, 160)\n",
      "/shared/CIMDG/Causality-Medical-Image-Domain-Generalization/data/E3/targetCT/processed_large_192_192_160/image_1.nii.gz (192, 192, 160)\n",
      "/shared/CIMDG/Causality-Medical-Image-Domain-Generalization/data/E3/targetCT/processed_large_192_192_160/image_2.nii.gz (192, 192, 160)\n",
      "/shared/CIMDG/Causality-Medical-Image-Domain-Generalization/data/E3/targetCT/processed_large_192_192_160/image_3.nii.gz (192, 192, 160)\n",
      "/shared/CIMDG/Causality-Medical-Image-Domain-Generalization/data/E3/targetCT/processed_large_192_192_160/image_4.nii.gz (192, 192, 160)\n",
      "/shared/CIMDG/Causality-Medical-Image-Domain-Generalization/data/E3/targetCT/processed_large_192_192_160/image_5.nii.gz (192, 192, 160)\n",
      "/shared/CIMDG/Causality-Medical-Image-Domain-Generalization/data/E3/targetCT/processed_large_192_192_160/image_6.nii.gz (192, 192, 160)\n",
      "/shared/CIMDG/Causality-Medical-Image-Domain-Generalization/data/E3/targetCT/processed_large_192_192_160/image_7.nii.gz (192, 192, 160)\n",
      "/shared/CIMDG/Causality-Medical-Image-Domain-Generalization/data/E3/targetCT/processed_large_192_192_160/image_8.nii.gz (192, 192, 160)\n",
      "/shared/CIMDG/Causality-Medical-Image-Domain-Generalization/data/E3/targetCT/processed_large_192_192_160/image_9.nii.gz (192, 192, 160)\n",
      "/shared/CIMDG/Causality-Medical-Image-Domain-Generalization/data/E3/targetCT/processed_large_192_192_160/image_10.nii.gz (192, 192, 160)\n",
      "/shared/CIMDG/Causality-Medical-Image-Domain-Generalization/data/E3/targetCT/processed_large_192_192_160/image_11.nii.gz (192, 192, 160)\n",
      "/shared/CIMDG/Causality-Medical-Image-Domain-Generalization/data/E3/targetCT/processed_large_192_192_160/image_12.nii.gz (192, 192, 160)\n",
      "/shared/CIMDG/Causality-Medical-Image-Domain-Generalization/data/E3/targetCT/processed_large_192_192_160/image_13.nii.gz (192, 192, 160)\n",
      "/shared/CIMDG/Causality-Medical-Image-Domain-Generalization/data/E3/targetCT/processed_large_192_192_160/image_14.nii.gz (192, 192, 160)\n",
      "/shared/CIMDG/Causality-Medical-Image-Domain-Generalization/data/E3/targetCT/processed_large_192_192_160/image_15.nii.gz (192, 192, 160)\n",
      "/shared/CIMDG/Causality-Medical-Image-Domain-Generalization/data/E3/targetCT/processed_large_192_192_160/image_16.nii.gz (192, 192, 160)\n",
      "/shared/CIMDG/Causality-Medical-Image-Domain-Generalization/data/E3/targetCT/processed_large_192_192_160/image_17.nii.gz (192, 192, 160)\n",
      "/shared/CIMDG/Causality-Medical-Image-Domain-Generalization/data/E3/targetCT/processed_large_192_192_160/image_18.nii.gz (192, 192, 160)\n",
      "/shared/CIMDG/Causality-Medical-Image-Domain-Generalization/data/E3/targetCT/processed_large_192_192_160/label_0.nii.gz (192, 192, 160)\n",
      "/shared/CIMDG/Causality-Medical-Image-Domain-Generalization/data/E3/targetCT/processed_large_192_192_160/label_1.nii.gz (192, 192, 160)\n",
      "/shared/CIMDG/Causality-Medical-Image-Domain-Generalization/data/E3/targetCT/processed_large_192_192_160/label_2.nii.gz (192, 192, 160)\n",
      "/shared/CIMDG/Causality-Medical-Image-Domain-Generalization/data/E3/targetCT/processed_large_192_192_160/label_3.nii.gz (192, 192, 160)\n",
      "/shared/CIMDG/Causality-Medical-Image-Domain-Generalization/data/E3/targetCT/processed_large_192_192_160/label_4.nii.gz (192, 192, 160)\n",
      "/shared/CIMDG/Causality-Medical-Image-Domain-Generalization/data/E3/targetCT/processed_large_192_192_160/label_5.nii.gz (192, 192, 160)\n",
      "/shared/CIMDG/Causality-Medical-Image-Domain-Generalization/data/E3/targetCT/processed_large_192_192_160/label_6.nii.gz (192, 192, 160)\n",
      "/shared/CIMDG/Causality-Medical-Image-Domain-Generalization/data/E3/targetCT/processed_large_192_192_160/label_7.nii.gz (192, 192, 160)\n",
      "/shared/CIMDG/Causality-Medical-Image-Domain-Generalization/data/E3/targetCT/processed_large_192_192_160/label_8.nii.gz (192, 192, 160)\n",
      "/shared/CIMDG/Causality-Medical-Image-Domain-Generalization/data/E3/targetCT/processed_large_192_192_160/label_9.nii.gz (192, 192, 160)\n",
      "/shared/CIMDG/Causality-Medical-Image-Domain-Generalization/data/E3/targetCT/processed_large_192_192_160/label_10.nii.gz (192, 192, 160)\n",
      "/shared/CIMDG/Causality-Medical-Image-Domain-Generalization/data/E3/targetCT/processed_large_192_192_160/label_11.nii.gz (192, 192, 160)\n",
      "/shared/CIMDG/Causality-Medical-Image-Domain-Generalization/data/E3/targetCT/processed_large_192_192_160/label_12.nii.gz (192, 192, 160)\n",
      "/shared/CIMDG/Causality-Medical-Image-Domain-Generalization/data/E3/targetCT/processed_large_192_192_160/label_13.nii.gz (192, 192, 160)\n",
      "/shared/CIMDG/Causality-Medical-Image-Domain-Generalization/data/E3/targetCT/processed_large_192_192_160/label_14.nii.gz (192, 192, 160)\n",
      "/shared/CIMDG/Causality-Medical-Image-Domain-Generalization/data/E3/targetCT/processed_large_192_192_160/label_15.nii.gz (192, 192, 160)\n",
      "/shared/CIMDG/Causality-Medical-Image-Domain-Generalization/data/E3/targetCT/processed_large_192_192_160/label_16.nii.gz (192, 192, 160)\n",
      "/shared/CIMDG/Causality-Medical-Image-Domain-Generalization/data/E3/targetCT/processed_large_192_192_160/label_17.nii.gz (192, 192, 160)\n",
      "/shared/CIMDG/Causality-Medical-Image-Domain-Generalization/data/E3/targetCT/processed_large_192_192_160/label_18.nii.gz (192, 192, 160)\n"
     ]
    }
   ],
   "source": [
    "from pathlib import Path\n",
    "import numpy as np\n",
    "import nibabel as nib\n",
    "# src_dir = '/shared/CIMDG/Causality-Medical-Image-Domain-Generalization/data/E3/sourceMR/processed_large'\n",
    "# tgt_dir = '/shared/CIMDG/Causality-Medical-Image-Domain-Generalization/data/E3/sourceMR/processed_large_192_192_160'\n",
    "\n",
    "src_dir = '/shared/CIMDG/Causality-Medical-Image-Domain-Generalization/data/E3/targetCT/processed_large'\n",
    "tgt_dir = '/shared/CIMDG/Causality-Medical-Image-Domain-Generalization/data/E3/targetCT/processed_large_192_192_160'\n",
    "\n",
    "# src_dir = '/shared/CIMDG/Causality-Medical-Image-Domain-Generalization/data/E4/sourceCT/original'\n",
    "# tgt_dir = '/shared/CIMDG/Causality-Medical-Image-Domain-Generalization/data/E4/sourceCT/processed_large_192_192_160'\n",
    "\n",
    "# src_dir = '/shared/CIMDG/Causality-Medical-Image-Domain-Generalization/data/E4/targetMR/original'\n",
    "# tgt_dir = '/shared/CIMDG/Causality-Medical-Image-Domain-Generalization/data/E4/targetMR/processed_large_192_192_160'\n",
    "\n",
    "\n",
    "for _fl in Path(src_dir).glob('*.nii.gz'):\n",
    "    fl = nib.load(_fl)\n",
    "    fl_160_mid = fl.get_fdata()\n",
    "    fl_160_last = np.transpose(fl_160_mid, (0, -1,-2))\n",
    "    if 'label' in _fl.name:\n",
    "        fl_160_last[fl_160_last > 4] = 0 # drop off the last two classes\n",
    "    if 'targetCT' in str(_fl):\n",
    "        fl_160_last[fl_160_last == 3] = -1 # switch classes\n",
    "        fl_160_last[fl_160_last == 4] = 3 # switch classes\n",
    "        fl_160_last[fl_160_last == -1] = 4 # switch classes\n",
    "        \n",
    "    fl_160_last_nib = nib.Nifti1Image(fl_160_last, fl.affine, fl.header)\n",
    "    target_file = Path(tgt_dir) / _fl.name\n",
    "    if not target_file.parent.exists():\n",
    "        target_file.parent.mkdir(parents=True)\n",
    "    print(target_file, fl_160_last.shape)\n",
    "    fl_160_last_nib.to_filename(target_file)"
   ]
  },
  {
   "cell_type": "code",
   "execution_count": 54,
   "metadata": {},
   "outputs": [
    {
     "name": "stdout",
     "output_type": "stream",
     "text": [
      "[[  2.0027473   -0.           0.         -10.01373672]\n",
      " [  0.           2.3971962    0.          44.94429779]\n",
      " [  0.          -0.           1.66666663 -27.6541729 ]\n",
      " [  0.           0.           0.           1.        ]]\n",
      "Visceral_MR_006.nii.gz\n",
      "[[  2.00151563  -0.           0.         -10.0075779 ]\n",
      " [  0.           2.39959588   0.          44.96147156]\n",
      " [  0.          -0.           1.66666663 -26.55460739]\n",
      " [  0.           0.           0.           1.        ]]\n",
      "Visceral_MR_007.nii.gz\n",
      "[[  2.0027473   -0.           0.         -10.01373672]\n",
      " [  0.           2.3971962    0.          44.93662643]\n",
      " [  0.          -0.           1.66666663 -27.21473885]\n",
      " [  0.           0.           0.           1.        ]]\n",
      "Visceral_MR_008.nii.gz\n",
      "[[  2.0027473   -0.           0.         -10.01373672]\n",
      " [  0.           2.3971962    0.          44.88993835]\n",
      " [  0.          -0.           1.66666663 -25.97114944]\n",
      " [  0.           0.           0.           1.        ]]\n",
      "Visceral_MR_009.nii.gz\n",
      "[[  2.0027473   -0.           0.         -10.89232826]\n",
      " [  0.           2.3971962    0.          44.92570496]\n",
      " [  0.          -0.           1.66666663 -27.14194107]\n",
      " [  0.           0.           0.           1.        ]]\n",
      "Visceral_MR_010.nii.gz\n",
      "[[  2.0027473   -0.           0.         -10.01373672]\n",
      " [  0.           2.3971962    0.          44.94742966]\n",
      " [  0.          -0.           1.66666663 -28.16666603]\n",
      " [  0.           0.           0.           1.        ]]\n",
      "Visceral_MR_011.nii.gz\n",
      "[[  2.0027473   -0.           0.         -10.01373672]\n",
      " [  0.           2.3971962    0.          44.94742966]\n",
      " [  0.          -0.           1.66666663 -28.16666603]\n",
      " [  0.           0.           0.           1.        ]]\n",
      "Visceral_MR_012.nii.gz\n",
      "[[  2.0027473   -0.           0.         -10.01373672]\n",
      " [  0.           2.3971962    0.          44.9192543 ]\n",
      " [  0.          -0.           1.66666663 -26.62947083]\n",
      " [  0.           0.           0.           1.        ]]\n",
      "Visceral_MR_013.nii.gz\n",
      "[[  2.00589609  -0.           0.         -10.02947998]\n",
      " [  0.           2.40209856   0.          44.93177414]\n",
      " [  0.          -0.           1.66666663 -25.16122627]\n",
      " [  0.           0.           0.           1.        ]]\n",
      "Visceral_MR_014.nii.gz\n",
      "[[  2.0027473   -0.           0.         -10.01373672]\n",
      " [  0.           2.3971962    0.          44.94742966]\n",
      " [  0.          -0.           1.66666663 -28.16666603]\n",
      " [  0.           0.           0.           1.        ]]\n",
      "Visceral_MR_015.nii.gz\n",
      "[[  2.0027473   -0.           0.         -10.01373672]\n",
      " [  0.           2.3971962    0.          44.88993835]\n",
      " [  0.          -0.           1.66666663 -25.97114944]\n",
      " [  0.           0.           0.           1.        ]]\n",
      "Visceral_MR_016.nii.gz\n",
      "[[  2.0027473   -0.           0.         -10.01373672]\n",
      " [  0.           2.3971962    0.          44.89370728]\n",
      " [  0.          -0.           1.66666663 -26.04429817]\n",
      " [  0.           0.           0.           1.        ]]\n",
      "Visceral_MR_017.nii.gz\n",
      "[[  2.0027473   -0.           0.         -10.01373672]\n",
      " [  0.           2.3971962    0.          44.8973465 ]\n",
      " [  0.          -0.           1.66666663 -26.11740685]\n",
      " [  0.           0.           0.           1.        ]]\n",
      "Visceral_MR_018.nii.gz\n",
      "[[  2.0027473   -0.           0.         -10.01373672]\n",
      " [  0.           2.3971962    0.          44.94742966]\n",
      " [  0.          -0.           1.66666663 -28.16666603]\n",
      " [  0.           0.           0.           1.        ]]\n",
      "Visceral_MR_000.nii.gz\n",
      "[[  2.0027473   -0.           0.         -10.01373672]\n",
      " [  0.           2.3971962    0.          44.94742966]\n",
      " [  0.          -0.           1.66666663 -28.16666603]\n",
      " [  0.           0.           0.           1.        ]]\n",
      "Visceral_MR_001.nii.gz\n",
      "[[  2.0027473   -0.           0.         -10.01373672]\n",
      " [  0.           2.3971962    0.          44.94742966]\n",
      " [  0.          -0.           1.66666663 -28.16666603]\n",
      " [  0.           0.           0.           1.        ]]\n",
      "Visceral_MR_002.nii.gz\n",
      "[[  2.0027473   -0.           0.         -10.01373672]\n",
      " [  0.           2.3971962    0.          44.41942215]\n",
      " [  0.          -0.           1.66666663 -21.53176498]\n",
      " [  0.           0.           0.           1.        ]]\n",
      "Visceral_MR_003.nii.gz\n",
      "[[  2.00408769  -0.           0.         -10.02043819]\n",
      " [  0.           2.40241871   0.          44.9838295 ]\n",
      " [  0.          -0.           1.67084372 -25.96361732]\n",
      " [  0.           0.           0.           1.        ]]\n",
      "Visceral_MR_004.nii.gz\n",
      "[[  2.004529    -0.           0.         -10.022645  ]\n",
      " [  0.           2.39959588   0.          44.99242401]\n",
      " [  0.          -0.           1.66666663 -28.16666603]\n",
      " [  0.           0.           0.           1.        ]]\n",
      "Visceral_MR_005.nii.gz\n"
     ]
    }
   ],
   "source": [
    "import re\n",
    "import nibabel as nib\n",
    "from pathlib import Path\n",
    "import numpy as np\n",
    "# exp_name = 'CAUSALDG_E3/22'\n",
    "exp_name = 'CAUSALDG_E4/8'\n",
    "fls = list(Path(f'/shared/CIMDG/Causality-Medical-Image-Domain-Generalization/checkpoints_test/{exp_name}/interm_preds').glob('*.nii.gz'))\n",
    "new_target = f'/shared/CIMDG/Causality-Medical-Image-Domain-Generalization/checkpoints_test/{exp_name}/interm_preds_resampled'\n",
    "for fl in fls:\n",
    "    filename = fl.name\n",
    "\n",
    "    found = re.search('([CTMR]{2})_(\\d+)', filename)\n",
    "    no = found.group(2)\n",
    "    mod = found.group(1)\n",
    "    new_name = f\"Visceral_{mod}_{int(no):03d}.nii.gz\"\n",
    "\n",
    "    ni = nib.load(fl)\n",
    "    d = ni.get_fdata()\n",
    "    t = torch.as_tensor(d)\n",
    "    r = torch.nn.functional.interpolate(t[None, None], size=(192, 192, 160), mode='nearest')[0, 0]\n",
    "    r = r.permute(0,2,1)\n",
    "    new_affine = ni.affine.copy()\n",
    "    new_affine[1,:],new_affine[2,:] = new_affine.copy()[2,:],new_affine.copy()[1,:]\n",
    "    new_affine[:,1],new_affine[:,2] = new_affine.copy()[:,2],new_affine.copy()[:,1]\n",
    "    new_affine[:,1] *= 48/160\n",
    "\n",
    "    print(new_affine)\n",
    "    ninew = nib.Nifti1Image(r.numpy(), np.eye(4))\n",
    "    nt = Path(new_target) \n",
    "    nt.mkdir(parents=True, exist_ok=True)\n",
    "    ninew.to_filename(nt / new_name)\n",
    "    print(new_name)\n"
   ]
  },
  {
   "cell_type": "code",
   "execution_count": 41,
   "metadata": {},
   "outputs": [
    {
     "data": {
      "text/plain": [
       "3.3333333333333335"
      ]
     },
     "execution_count": 41,
     "metadata": {},
     "output_type": "execute_result"
    }
   ],
   "source": [
    "160/48"
   ]
  },
  {
   "cell_type": "code",
   "execution_count": null,
   "metadata": {},
   "outputs": [],
   "source": [
    "new_affine"
   ]
  },
  {
   "cell_type": "code",
   "execution_count": 14,
   "metadata": {},
   "outputs": [],
   "source": [
    "import torch\n",
    "from pathlib import Path\n",
    "import nibabel as nib"
   ]
  },
  {
   "cell_type": "code",
   "execution_count": 15,
   "metadata": {},
   "outputs": [],
   "source": [
    "p = Path(\"/shared/CIMDG/Causality-Medical-Image-Domain-Generalization/data/E3/targetCT/processed_large_192_192_160\")"
   ]
  },
  {
   "cell_type": "code",
   "execution_count": 20,
   "metadata": {},
   "outputs": [
    {
     "name": "stdout",
     "output_type": "stream",
     "text": [
      "tensor([0.0000, 1.0000, 2.0000, 3.0000, 4.0000], dtype=torch.float64)\n",
      "tensor([0.0000, 1.0000, 2.0000, 3.0000, 4.0000], dtype=torch.float64)\n",
      "tensor([0.0000, 1.0000, 2.0000, 3.0000, 4.0000], dtype=torch.float64)\n",
      "tensor([0.0000, 1.0000, 2.0000, 3.0000, 4.0000], dtype=torch.float64)\n",
      "tensor([0.0000, 1.0000, 2.0000, 3.0000, 4.0000], dtype=torch.float64)\n",
      "tensor([0.0000, 1.0000, 2.0000, 3.0000, 4.0000], dtype=torch.float64)\n",
      "tensor([0.0000, 1.0000, 2.0000, 3.0000, 4.0000], dtype=torch.float64)\n",
      "tensor([0.0000, 1.0000, 2.0000, 3.0000, 4.0000], dtype=torch.float64)\n"
     ]
    }
   ],
   "source": [
    "labels = p.glob(\"label*\")\n",
    "for l in labels:\n",
    "    # print(l)\n",
    "    print(torch.as_tensor(nib.load(l).get_fdata()).unique())"
   ]
  },
  {
   "cell_type": "code",
   "execution_count": 21,
   "metadata": {},
   "outputs": [
    {
     "name": "stdout",
     "output_type": "stream",
     "text": [
      "tensor([0.0000, 1.0000, 2.0000, 3.0000, 4.0000], dtype=torch.float64)\n",
      "tensor([0.0000, 1.0000, 2.0000, 3.0000, 4.0000], dtype=torch.float64)\n",
      "tensor([0.0000, 1.0000, 2.0000, 3.0000, 4.0000], dtype=torch.float64)\n",
      "tensor([0.0000, 1.0000, 2.0000, 3.0000, 4.0000], dtype=torch.float64)\n",
      "tensor([0.0000, 1.0000, 2.0000, 3.0000, 4.0000], dtype=torch.float64)\n",
      "tensor([0.0000, 1.0000, 2.0000, 3.0000, 4.0000], dtype=torch.float64)\n",
      "tensor([0.0000, 1.0000, 2.0000, 3.0000, 4.0000], dtype=torch.float64)\n",
      "tensor([0.0000, 1.0000, 2.0000, 3.0000, 4.0000], dtype=torch.float64)\n"
     ]
    }
   ],
   "source": [
    "\n",
    "p = Path(\"/shared/CIMDG/Causality-Medical-Image-Domain-Generalization/data/E3/sourceMR/processed_large_192_192_160\")\n",
    "labels = p.glob(\"label*\")\n",
    "for l in labels:\n",
    "    # print(l)\n",
    "    print(torch.as_tensor(nib.load(l).get_fdata()).unique())"
   ]
  },
  {
   "cell_type": "code",
   "execution_count": null,
   "metadata": {},
   "outputs": [],
   "source": []
  }
 ],
 "metadata": {
  "kernelspec": {
   "display_name": ".venv",
   "language": "python",
   "name": "python3"
  },
  "language_info": {
   "codemirror_mode": {
    "name": "ipython",
    "version": 3
   },
   "file_extension": ".py",
   "mimetype": "text/x-python",
   "name": "python",
   "nbconvert_exporter": "python",
   "pygments_lexer": "ipython3",
   "version": "3.9.13"
  },
  "orig_nbformat": 4,
  "vscode": {
   "interpreter": {
    "hash": "bdbcfbb84054b43810acc860150e2e94555926997ff01cb1caa6f8dd264a28d6"
   }
  }
 },
 "nbformat": 4,
 "nbformat_minor": 2
}
