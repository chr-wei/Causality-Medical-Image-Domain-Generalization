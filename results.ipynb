{
 "cells": [
  {
   "cell_type": "code",
   "execution_count": 16,
   "metadata": {},
   "outputs": [],
   "source": [
    "import json\n",
    "import torch"
   ]
  },
  {
   "cell_type": "code",
   "execution_count": 17,
   "metadata": {},
   "outputs": [],
   "source": [
    "with open('/shared/CIMDG/Causality-Medical-Image-Domain-Generalization/checkpoints/CAUSALDG_E3/22/metrics.json') as f:\n",
    "    data = json.load(f)"
   ]
  },
  {
   "cell_type": "code",
   "execution_count": 18,
   "metadata": {},
   "outputs": [
    {
     "data": {
      "text/plain": [
       "dict_keys(['meanDiceAvgTargetDomains', 'meanDiceTarget', 'meanDice_targetCT', 'rawDiceTarget', 'rawDice_targetCT', 'source_meanDice', 'source_rawDice'])"
      ]
     },
     "execution_count": 18,
     "metadata": {},
     "output_type": "execute_result"
    }
   ],
   "source": [
    "data.keys()"
   ]
  },
  {
   "cell_type": "code",
   "execution_count": null,
   "metadata": {},
   "outputs": [],
   "source": []
  },
  {
   "cell_type": "code",
   "execution_count": 19,
   "metadata": {},
   "outputs": [],
   "source": [
    "LAST_EPOCH = -1\n",
    "class_vals = torch.zeros(19,5)\n",
    "for s_idx, smp in enumerate(data['rawDiceTarget']['values'][LAST_EPOCH]):\n",
    "    class_vals[s_idx] = torch.tensor(smp)"
   ]
  },
  {
   "cell_type": "code",
   "execution_count": 22,
   "metadata": {},
   "outputs": [
    {
     "name": "stdout",
     "output_type": "stream",
     "text": [
      "mean over class tensor([0.9883, 0.7784, 0.6545, 0.5477, 0.6319])\n",
      "std over class tensor([0.0107, 0.1562, 0.2573, 0.2621, 0.2266])\n"
     ]
    }
   ],
   "source": [
    "print('mean over class', class_vals.mean(0))\n",
    "print('std over class', class_vals.std(0))"
   ]
  },
  {
   "cell_type": "code",
   "execution_count": 23,
   "metadata": {},
   "outputs": [
    {
     "name": "stdout",
     "output_type": "stream",
     "text": [
      "mean over all tensor(0.7202)\n",
      "std over all tensor(0.2530)\n"
     ]
    }
   ],
   "source": [
    "print('mean over all', class_vals.mean())\n",
    "print('std over all', class_vals.std())"
   ]
  },
  {
   "cell_type": "code",
   "execution_count": 27,
   "metadata": {},
   "outputs": [],
   "source": [
    "import nibabel as nib"
   ]
  },
  {
   "cell_type": "code",
   "execution_count": 32,
   "metadata": {},
   "outputs": [],
   "source": [
    "pred = nib.load('/shared/CIMDG/Causality-Medical-Image-Domain-Generalization/checkpoints_test/CAUSALDG_E3/22/interm_preds/pred_targetCT_0_epoch_0.nii.gz')"
   ]
  },
  {
   "cell_type": "code",
   "execution_count": 33,
   "metadata": {},
   "outputs": [
    {
     "data": {
      "text/plain": [
       "torch.Size([192, 192, 48])"
      ]
     },
     "execution_count": 33,
     "metadata": {},
     "output_type": "execute_result"
    }
   ],
   "source": [
    "torch.as_tensor(pred.get_fdata()).shape\n",
    "# vs. (192, 160, 192)"
   ]
  },
  {
   "cell_type": "code",
   "execution_count": 37,
   "metadata": {},
   "outputs": [],
   "source": [
    "src_large = nib.load('/shared/CIMDG/Causality-Medical-Image-Domain-Generalization/data/E3/sourceMR/processed/image_0.nii.gz')\n",
    "src = nib.load('/shared/CIMDG/Causality-Medical-Image-Domain-Generalization/data/E3/sourceMR/processed_large/image_0.nii.gz')"
   ]
  },
  {
   "cell_type": "code",
   "execution_count": 38,
   "metadata": {},
   "outputs": [
    {
     "data": {
      "text/plain": [
       "(192, 160, 192)"
      ]
     },
     "execution_count": 38,
     "metadata": {},
     "output_type": "execute_result"
    }
   ],
   "source": [
    "src.shape"
   ]
  },
  {
   "cell_type": "code",
   "execution_count": 39,
   "metadata": {},
   "outputs": [
    {
     "data": {
      "text/plain": [
       "(192, 192, 48)"
      ]
     },
     "execution_count": 39,
     "metadata": {},
     "output_type": "execute_result"
    }
   ],
   "source": [
    "src_large.shape"
   ]
  },
  {
   "cell_type": "code",
   "execution_count": null,
   "metadata": {},
   "outputs": [],
   "source": []
  }
 ],
 "metadata": {
  "kernelspec": {
   "display_name": ".venv",
   "language": "python",
   "name": "python3"
  },
  "language_info": {
   "codemirror_mode": {
    "name": "ipython",
    "version": 3
   },
   "file_extension": ".py",
   "mimetype": "text/x-python",
   "name": "python",
   "nbconvert_exporter": "python",
   "pygments_lexer": "ipython3",
   "version": "3.9.13"
  },
  "orig_nbformat": 4,
  "vscode": {
   "interpreter": {
    "hash": "bdbcfbb84054b43810acc860150e2e94555926997ff01cb1caa6f8dd264a28d6"
   }
  }
 },
 "nbformat": 4,
 "nbformat_minor": 2
}
